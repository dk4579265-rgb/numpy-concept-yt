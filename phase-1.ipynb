{
 "cells": [
  {
   "cell_type": "markdown",
   "id": "6cb3391e",
   "metadata": {},
   "source": [
    "## Numpy array and basics\n",
    "learn about numpy with chai aur code"
   ]
  },
  {
   "cell_type": "markdown",
   "id": "edcc138b",
   "metadata": {},
   "source": [
    "import numpy as np"
   ]
  },
  {
   "cell_type": "markdown",
   "id": "493ed247",
   "metadata": {},
   "source": [
    "## creating array from list"
   ]
  },
  {
   "cell_type": "code",
   "execution_count": 5,
   "id": "a4b67763",
   "metadata": {},
   "outputs": [
    {
     "name": "stdout",
     "output_type": "stream",
     "text": [
      "1D array: [1 2 3 4]\n",
      "2D array:\n",
      " [[1 2 3]\n",
      " [4 5 6]]\n"
     ]
    }
   ],
   "source": [
    "import numpy as np\n",
    "\n",
    "arr_1d = np.array([1, 2, 3, 4])\n",
    "print(\"1D array:\", arr_1d)\n",
    "\n",
    "arr_2d = np.array([[1, 2, 3], [4, 5, 6]])\n",
    "print(\"2D array:\\n\", arr_2d)\n"
   ]
  },
  {
   "cell_type": "markdown",
   "id": "3e4b674d",
   "metadata": {},
   "source": [
    "## List vs numpy array"
   ]
  },
  {
   "cell_type": "code",
   "execution_count": null,
   "id": "21fc5be4",
   "metadata": {},
   "outputs": [
    {
     "name": "stdout",
     "output_type": "stream",
     "text": [
      "python list multiplication [1, 2, 3, 1, 2, 3]\n",
      "python array multiplication [2 4 6]\n",
      "\n",
      " List opraction time: 0.058934688568115234\n",
      "\n",
      " Numpy opraction time: 0.003215789794921875\n"
     ]
    }
   ],
   "source": [
    "py_list =[1,2,3]\n",
    "print(\"python list multiplication\",py_list * 2)  #[1,2,3,1,2,3]\n",
    "\n",
    "\n",
    "np_array =np.array([1,2,3])            ##aliment by multiplication\n",
    "print(\"python array multiplication\",np_array *2)  #[2 4 6]\n",
    "\n",
    "\n",
    "\n",
    "import time\n",
    "start = time.time()\n",
    "py_list = [i*2 for i in range(1000000)]\n",
    "print(\"\\n List opraction time:\",time.time()-start)\n",
    "\n",
    "\n",
    "start = time.time()\n",
    "np_array = np.arange(1000000) *2\n",
    "print(\"\\n Numpy opraction time:\",time.time() -start)"
   ]
  },
  {
   "cell_type": "markdown",
   "id": "ec1be0d9",
   "metadata": {},
   "source": [
    "### creating array from scratch"
   ]
  },
  {
   "cell_type": "code",
   "execution_count": 22,
   "id": "389e87ac",
   "metadata": {},
   "outputs": [
    {
     "name": "stdout",
     "output_type": "stream",
     "text": [
      "zero array: \n",
      " [[0. 0. 0. 0.]\n",
      " [0. 0. 0. 0.]\n",
      " [0. 0. 0. 0.]]\n",
      "ones array:\n",
      " [[1. 1. 1. 1. 1.]\n",
      " [1. 1. 1. 1. 1.]\n",
      " [1. 1. 1. 1. 1.]\n",
      " [1. 1. 1. 1. 1.]]\n",
      "full array: \n",
      " [[7 7]\n",
      " [7 7]]\n",
      "random array:\n",
      " [[0.08059576 0.16521942 0.14274892]\n",
      " [0.39226977 0.24007759 0.7807361 ]]\n",
      "sequnce array:\n",
      " [ 0  2  4  6  8 10]\n"
     ]
    }
   ],
   "source": [
    "zeros =np.zeros((3,4))\n",
    "print(\"zero array: \\n\",zeros)\n",
    "\n",
    "ones=np.ones((4,5))\n",
    "print(\"ones array:\\n\",ones)\n",
    "\n",
    "full=np.full((2,2),7)\n",
    "print(\"full array: \\n\",full)\n",
    "\n",
    "random = np.random.random((2,3))\n",
    "print(\"random array:\\n\",random)\n",
    "\n",
    "\n",
    "sequnce = np.arange(0, 11,2 )\n",
    "print(\"sequnce array:\\n\",sequnce)"
   ]
  },
  {
   "cell_type": "markdown",
   "id": "c4787596",
   "metadata": {},
   "source": [
    "###   Vector ,Matrix and Tensor"
   ]
  },
  {
   "cell_type": "code",
   "execution_count": 11,
   "id": "b23c8e12",
   "metadata": {},
   "outputs": [
    {
     "name": "stdout",
     "output_type": "stream",
     "text": [
      "vector:\n",
      " [1 2 3]\n",
      "matrix: [[1 2 3]\n",
      " [4 5 6]]\n",
      "tensor: [[[1 2]\n",
      "  [3 4]\n",
      "  [5 6]\n",
      "  [7 8]]]\n"
     ]
    }
   ],
   "source": [
    "\n",
    "vector = np.array([1,2,3])  \n",
    "print(\"vector:\\n\",vector)\n",
    "\n",
    "\n",
    "matrix = np.array([[1,2,3],[4,5,6]])\n",
    "print(\"matrix:\",matrix)\n",
    "\n",
    "\n",
    "tensor = np.array([[[1,2],[3,4],[5,6],[7,8]]])\n",
    "print(\"tensor:\",tensor)"
   ]
  },
  {
   "cell_type": "markdown",
   "id": "5302e6f0",
   "metadata": {},
   "source": [
    "### Array propertise"
   ]
  },
  {
   "cell_type": "code",
   "execution_count": null,
   "id": "d2a10d81",
   "metadata": {},
   "outputs": [
    {
     "name": "stdout",
     "output_type": "stream",
     "text": [
      "shape (2, 3)\n",
      "Dimension 2\n",
      "size 6\n",
      "Dtype int64\n"
     ]
    }
   ],
   "source": [
    "arr = np.array([[1,2,3],[4,5,6]])\n",
    "\n",
    "print(\"shape\",arr.shape)\n",
    "print(\"Dimension\",arr.ndim)\n",
    "print(\"size\",arr.size)\n",
    "print(\"Dtype\",arr.dtype)           #bite"
   ]
  },
  {
   "cell_type": "markdown",
   "id": "d0be7bfb",
   "metadata": {},
   "source": [
    "### Array Resheping"
   ]
  },
  {
   "cell_type": "code",
   "execution_count": null,
   "id": "13d4c84b",
   "metadata": {},
   "outputs": [
    {
     "name": "stdout",
     "output_type": "stream",
     "text": [
      "originalm array [ 0  1  2  3  4  5  6  7  8  9 10 11]\n",
      "\n",
      " Reshaped array [[ 0  1  2  3]\n",
      " [ 4  5  6  7]\n",
      " [ 8  9 10 11]]\n",
      "\n",
      " Flattened array [ 0  1  2  3  4  5  6  7  8  9 10 11]\n",
      "\n",
      " rabeled array [ 0  1  2  3  4  5  6  7  8  9 10 11]\n",
      "\n",
      " Transpose attay [[ 0  4  8]\n",
      " [ 1  5  9]\n",
      " [ 2  6 10]\n",
      " [ 3  7 11]]\n"
     ]
    }
   ],
   "source": [
    "arr = np.arange(12)\n",
    "print(\"originalm array\",arr)\n",
    "\n",
    "reshaped = arr.reshape((3,4))                # 3*4 matrix\n",
    "print(\"\\n Reshaped array\",reshaped)\n",
    "\n",
    "flattened = reshaped.flatten()               # copy value return\n",
    "print(\"\\n Flattened array\",flattened)\n",
    "\n",
    "raveled = reshaped.ravel()                  # original value  return ravel\n",
    "print(\"\\n rabeled array\",raveled)\n",
    "\n",
    "# Transpose\n",
    "transpose = reshaped.T                           # Transpose\n",
    "print(\"\\n Transpose attay\",transpose)"
   ]
  }
 ],
 "metadata": {
  "kernelspec": {
   "display_name": ".venv",
   "language": "python",
   "name": "python3"
  },
  "language_info": {
   "codemirror_mode": {
    "name": "ipython",
    "version": 3
   },
   "file_extension": ".py",
   "mimetype": "text/x-python",
   "name": "python",
   "nbconvert_exporter": "python",
   "pygments_lexer": "ipython3",
   "version": "3.13.7"
  }
 },
 "nbformat": 4,
 "nbformat_minor": 5
}
