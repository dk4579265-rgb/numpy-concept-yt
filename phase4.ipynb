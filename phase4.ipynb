{
 "cells": [
  {
   "cell_type": "code",
   "execution_count": null,
   "id": "9d24051b",
   "metadata": {},
   "outputs": [],
   "source": [
    "import numpy as np\n",
    "import matplotlib.pyplot as plt\n",
    "\n",
    "\n",
    "\n",
    "\n",
    "   \n",
    "\n"
   ]
  },
  {
   "cell_type": "code",
   "execution_count": 38,
   "id": "9d6a4c7d",
   "metadata": {},
   "outputs": [],
   "source": [
    "array1=np.array([[1,2,3],[4,5,6]])\n",
    "array2=np.random.rand(3,3)\n",
    "array3=np.zeros((4,4))"
   ]
  },
  {
   "cell_type": "code",
   "execution_count": 37,
   "id": "cffd3585",
   "metadata": {},
   "outputs": [],
   "source": [
    "np.save('array1.npy',array1)\n",
    "np.save('array2.npy',array2)\n",
    "np.save('array3.npy',array3)"
   ]
  },
  {
   "cell_type": "code",
   "execution_count": 36,
   "id": "20c2f8b0",
   "metadata": {},
   "outputs": [
    {
     "name": "stdout",
     "output_type": "stream",
     "text": [
      "[[1 2 3]\n",
      " [4 5 6]]\n"
     ]
    }
   ],
   "source": [
    "loaded_array1=np.load('array1.npy')\n",
    "print(loaded_array1)"
   ]
  },
  {
   "cell_type": "code",
   "execution_count": 59,
   "id": "26d2a1e0",
   "metadata": {},
   "outputs": [
    {
     "ename": "ValueError",
     "evalue": "This file contains pickled (object) data. If you trust the file you can load it unsafely using the `allow_pickle=` keyword argument or `pickle.load()`.",
     "output_type": "error",
     "traceback": [
      "\u001b[31m---------------------------------------------------------------------------\u001b[39m",
      "\u001b[31mValueError\u001b[39m                                Traceback (most recent call last)",
      "\u001b[36mCell\u001b[39m\u001b[36m \u001b[39m\u001b[32mIn[59]\u001b[39m\u001b[32m, line 2\u001b[39m\n\u001b[32m      1\u001b[39m \u001b[38;5;28;01mtry\u001b[39;00m: \n\u001b[32m----> \u001b[39m\u001b[32m2\u001b[39m     logo = \u001b[43mnp\u001b[49m\u001b[43m.\u001b[49m\u001b[43mload\u001b[49m\u001b[43m(\u001b[49m\u001b[33;43m'\u001b[39;49m\u001b[33;43mnumpy-logo.npy\u001b[39;49m\u001b[33;43m'\u001b[39;49m\u001b[43m)\u001b[49m\n\u001b[32m      4\u001b[39m    \u001b[38;5;66;03m# Display \u001b[39;00m\n\u001b[32m      5\u001b[39m     plt.figure(figsize=(\u001b[32m10\u001b[39m, \u001b[32m5\u001b[39m)) \n",
      "\u001b[36mFile \u001b[39m\u001b[32mc:\\Users\\diwakar kumar\\OneDrive\\Desktop\\NUMPY-YT\\.venv\\Lib\\site-packages\\numpy\\lib\\_npyio_impl.py:489\u001b[39m, in \u001b[36mload\u001b[39m\u001b[34m(file, mmap_mode, allow_pickle, fix_imports, encoding, max_header_size)\u001b[39m\n\u001b[32m    486\u001b[39m \u001b[38;5;28;01melse\u001b[39;00m:\n\u001b[32m    487\u001b[39m     \u001b[38;5;66;03m# Try a pickle\u001b[39;00m\n\u001b[32m    488\u001b[39m     \u001b[38;5;28;01mif\u001b[39;00m \u001b[38;5;129;01mnot\u001b[39;00m allow_pickle:\n\u001b[32m--> \u001b[39m\u001b[32m489\u001b[39m         \u001b[38;5;28;01mraise\u001b[39;00m \u001b[38;5;167;01mValueError\u001b[39;00m(\n\u001b[32m    490\u001b[39m             \u001b[33m\"\u001b[39m\u001b[33mThis file contains pickled (object) data. If you trust \u001b[39m\u001b[33m\"\u001b[39m\n\u001b[32m    491\u001b[39m             \u001b[33m\"\u001b[39m\u001b[33mthe file you can load it unsafely using the \u001b[39m\u001b[33m\"\u001b[39m\n\u001b[32m    492\u001b[39m             \u001b[33m\"\u001b[39m\u001b[33m`allow_pickle=` keyword argument or `pickle.load()`.\u001b[39m\u001b[33m\"\u001b[39m)\n\u001b[32m    493\u001b[39m     \u001b[38;5;28;01mtry\u001b[39;00m:\n\u001b[32m    494\u001b[39m         \u001b[38;5;28;01mreturn\u001b[39;00m pickle.load(fid, **pickle_kwargs)\n",
      "\u001b[31mValueError\u001b[39m: This file contains pickled (object) data. If you trust the file you can load it unsafely using the `allow_pickle=` keyword argument or `pickle.load()`."
     ]
    }
   ],
   "source": [
    "try: \n",
    "    logo = np.load('numpy-logo.npy')\n",
    "    \n",
    "   # Display \n",
    "    plt.figure(figsize=(10, 5)) \n",
    "    plt.subplot(121)\n",
    "    plt.imshow(logo) \n",
    "    plt.title(\"Numpy logo\") \n",
    "    plt.grid(False) # Use boolean, not string \n",
    "    \n",
    "    dark_logo=1-logo\n",
    "    \n",
    "    plt.subplot(122)\n",
    "    plt.imshow(dark_logo)\n",
    "    plt.title(\"Numpy Dark logo\") \n",
    "    plt.grid(False)\n",
    "    \n",
    "except FileNotFoundError:\n",
    "     print(\"numpy logo file not found\")"
   ]
  }
 ],
 "metadata": {
  "kernelspec": {
   "display_name": ".venv",
   "language": "python",
   "name": "python3"
  },
  "language_info": {
   "codemirror_mode": {
    "name": "ipython",
    "version": 3
   },
   "file_extension": ".py",
   "mimetype": "text/x-python",
   "name": "python",
   "nbconvert_exporter": "python",
   "pygments_lexer": "ipython3",
   "version": "3.13.7"
  }
 },
 "nbformat": 4,
 "nbformat_minor": 5
}
