{
 "cells": [
  {
   "cell_type": "markdown",
   "id": "530fafe5",
   "metadata": {},
   "source": [
    "### Numpy array oprections"
   ]
  },
  {
   "cell_type": "code",
   "execution_count": 2,
   "id": "6eb735f1",
   "metadata": {},
   "outputs": [],
   "source": [
    "import numpy as np"
   ]
  },
  {
   "cell_type": "code",
   "execution_count": 23,
   "id": "e3e3f7c4",
   "metadata": {},
   "outputs": [
    {
     "name": "stdout",
     "output_type": "stream",
     "text": [
      "Basic slicing [3 4 5 6 7]\n",
      "with step [2 4 6 8]\n",
      "Negative indexing 8\n"
     ]
    }
   ],
   "source": [
    "arr = np.array([1,2,3,4,5,6,7,8,9,10])\n",
    "print(\"Basic slicing\",arr[2:7])\n",
    "print(\"with step\",arr[1:8:2])\n",
    "print(\"Negative indexing\",arr[-3])"
   ]
  },
  {
   "cell_type": "code",
   "execution_count": 24,
   "id": "2dd948e4",
   "metadata": {},
   "outputs": [
    {
     "name": "stdout",
     "output_type": "stream",
     "text": [
      "specific element 6\n",
      "Entire row [4 5 6]\n",
      "Entire row [2 5 8]\n"
     ]
    }
   ],
   "source": [
    "arr_2d=np.array([[1,2,3],\n",
    "             [4,5,6],\n",
    "             [7,8,9]])\n",
    "print(\"specific element\",arr_2d[1,2])            #1=row one.2=culomb two\n",
    "print(\"Entire row\",arr_2d[1])\n",
    "print(\"Entire row\",arr_2d[:,1])"
   ]
  },
  {
   "cell_type": "code",
   "execution_count": 4,
   "id": "5c264458",
   "metadata": {},
   "outputs": [],
   "source": [
    "import numpy as np"
   ]
  },
  {
   "cell_type": "markdown",
   "id": "b742df28",
   "metadata": {},
   "source": [
    "### Sorting"
   ]
  },
  {
   "cell_type": "code",
   "execution_count": null,
   "id": "6b3bc72f",
   "metadata": {},
   "outputs": [
    {
     "name": "stdout",
     "output_type": "stream",
     "text": [
      "Sorted array [1 2 3 4 5 6 7 8 9]\n",
      "Sorting 2D array by column [[1 1]\n",
      " [2 2]\n",
      " [3 3]]\n"
     ]
    }
   ],
   "source": [
    "unsorted =np.array([9,7,5,3,1,2,4,6,8])\n",
    "print(\"Sorted array\",np.sort(unsorted))\n",
    "\n",
    "arr_2D_unsorted=np.array([[3,1],\n",
    "                          [1,2],\n",
    "                          [2,3]])\n",
    "print(\"Sorting 2D array by column\",np.sort(arr_2D_unsorted,axis=0))"
   ]
  },
  {
   "cell_type": "markdown",
   "id": "389b926c",
   "metadata": {},
   "source": [
    "### Filter"
   ]
  },
  {
   "cell_type": "code",
   "execution_count": 19,
   "id": "caeb75b8",
   "metadata": {},
   "outputs": [
    {
     "name": "stdout",
     "output_type": "stream",
     "text": [
      "Even numbers [ 2  4  6  8 10]\n"
     ]
    }
   ],
   "source": [
    "number=np.array([1,2,3,4,5,6,7,8,9,10])\n",
    "even_number=number[number % 2 ==0]\n",
    "print(\"Even numbers\",even_number)"
   ]
  },
  {
   "cell_type": "markdown",
   "id": "98bb5eb3",
   "metadata": {},
   "source": [
    "### Filter with mask"
   ]
  },
  {
   "cell_type": "code",
   "execution_count": 21,
   "id": "e7f34977",
   "metadata": {},
   "outputs": [
    {
     "name": "stdout",
     "output_type": "stream",
     "text": [
      "Number greater than 5 [ 6  7  8  9 10]\n"
     ]
    }
   ],
   "source": [
    "mask=number>5\n",
    "print(\"Number greater than 5\",number[mask])"
   ]
  },
  {
   "cell_type": "markdown",
   "id": "eecf5f90",
   "metadata": {},
   "source": [
    "### Fancy indexing VS np.where()"
   ]
  },
  {
   "cell_type": "code",
   "execution_count": null,
   "id": "e628d517",
   "metadata": {},
   "outputs": [
    {
     "name": "stdout",
     "output_type": "stream",
     "text": [
      "[1 3 5]\n",
      "(array([5, 6, 7, 8, 9]),)\n",
      "NP where [ 6  7  8  9 10]\n"
     ]
    }
   ],
   "source": [
    "numbers = np.array([1,2,3,4,5,6,7,8,9,10])\n",
    "\n",
    "indices=[0,2,4]\n",
    "print(numbers[indices])\n",
    "\n",
    "where_result = np.where(numbers>5)\n",
    "print(where_result)\n",
    "print(\"NP where\",numbers[where_result])"
   ]
  },
  {
   "cell_type": "code",
   "execution_count": 11,
   "id": "8b4d5bff",
   "metadata": {},
   "outputs": [
    {
     "name": "stdout",
     "output_type": "stream",
     "text": [
      "['false' 'false' 'false' 'false' 'false' 'true' 'true' 'true' 'true'\n",
      " 'true']\n"
     ]
    }
   ],
   "source": [
    "\n",
    "condition_array=np.where(numbers>5,\"true\" ,\"false\")\n",
    "print(condition_array)"
   ]
  },
  {
   "cell_type": "markdown",
   "id": "8a3e1f95",
   "metadata": {},
   "source": [
    "###     ADDING AND REMOVING DATA"
   ]
  },
  {
   "cell_type": "code",
   "execution_count": 12,
   "id": "eb4267c9",
   "metadata": {},
   "outputs": [
    {
     "name": "stdout",
     "output_type": "stream",
     "text": [
      "[1 2 3 4 5 6]\n"
     ]
    }
   ],
   "source": [
    "arr1=np.array([1,2,3])\n",
    "arr2=np.array([4,5,6])\n",
    "\n",
    "combined=np.concatenate((arr1,arr2))\n",
    "print(combined)"
   ]
  },
  {
   "cell_type": "markdown",
   "id": "664a3726",
   "metadata": {},
   "source": [
    "##array compatibility"
   ]
  },
  {
   "cell_type": "code",
   "execution_count": 14,
   "id": "f2b02175",
   "metadata": {},
   "outputs": [
    {
     "name": "stdout",
     "output_type": "stream",
     "text": [
      "compatibility shapes False\n"
     ]
    }
   ],
   "source": [
    "a=np.array([1,2,3])\n",
    "b=np.array([4,5,6,7])\n",
    "c=np.array([8,9,2])\n",
    "\n",
    "print(\"compatibility shapes\",a.shape == b.shape)"
   ]
  },
  {
   "cell_type": "markdown",
   "id": "ec8e5ad5",
   "metadata": {},
   "source": [
    "##add row and columb"
   ]
  },
  {
   "cell_type": "code",
   "execution_count": null,
   "id": "084ed9cd",
   "metadata": {},
   "outputs": [
    {
     "name": "stdout",
     "output_type": "stream",
     "text": [
      "[[1 2]\n",
      " [3 4]]\n",
      "with new row [[1 2]\n",
      " [3 4]\n",
      " [5 6]]\n",
      "with new col [[1 2 7]\n",
      " [3 4 8]]\n"
     ]
    }
   ],
   "source": [
    "original=np.array([[1,2],[3,4]])\n",
    "\n",
    "new_row=np.array([5,6])\n",
    "with_new_row=np.vstack((original,new_row))\n",
    "print(original)\n",
    "print(\"with new row\",with_new_row)\n",
    "\n",
    "\n",
    "\n",
    "new_col=np.array([[7],[8]])\n",
    "with_new_col=np.hstack((original,new_col))\n",
    "print(\"with new col\",with_new_col)\n"
   ]
  },
  {
   "cell_type": "markdown",
   "id": "5eec166e",
   "metadata": {},
   "source": [
    "##removing"
   ]
  },
  {
   "cell_type": "code",
   "execution_count": 22,
   "id": "5ada328b",
   "metadata": {},
   "outputs": [
    {
     "name": "stdout",
     "output_type": "stream",
     "text": [
      "[1 2 4 5]\n"
     ]
    }
   ],
   "source": [
    "arr=np.array([1,2,3,4,5])\n",
    "delete=np.delete(arr,2)\n",
    "print(delete)\n"
   ]
  }
 ],
 "metadata": {
  "kernelspec": {
   "display_name": ".venv",
   "language": "python",
   "name": "python3"
  },
  "language_info": {
   "codemirror_mode": {
    "name": "ipython",
    "version": 3
   },
   "file_extension": ".py",
   "mimetype": "text/x-python",
   "name": "python",
   "nbconvert_exporter": "python",
   "pygments_lexer": "ipython3",
   "version": "3.13.7"
  }
 },
 "nbformat": 4,
 "nbformat_minor": 5
}
